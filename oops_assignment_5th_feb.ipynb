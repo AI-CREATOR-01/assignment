{
 "cells": [
  {
   "cell_type": "code",
   "execution_count": null,
   "id": "b6f00f5f",
   "metadata": {},
   "outputs": [],
   "source": [
    "# Ans 1.\n",
    "\n",
    "\n",
    "# A class is a blueprint for creating objects. \n",
    "# It defines a type of object that specifies its properties and methods. \n",
    "# A class acts as a template to create objects that belong to that class.\n",
    "\n",
    "\n",
    "# An object is an instance of a class. It is a real-world entity that has state and behavior.\n",
    "# Objects are created from a class and they inherit the properties and methods defined in the class.\n",
    "\n",
    "# For example, consider a class \"Car\". A car has properties such as make, model, year, and color.\n",
    "# It also has behaviors like starting, accelerating, and stopping. \n",
    "# We can create objects of the class Car, such as a Toyota Camry or a Honda Civic, each having their own unique property values.\n",
    "\n",
    "# In short, a class defines what objects of that class will have and do, \n",
    "# while objects are instances of a class that have a state and behavior based on the definition in the class.\n",
    "\n"
   ]
  },
  {
   "cell_type": "code",
   "execution_count": null,
   "id": "0579b521",
   "metadata": {},
   "outputs": [],
   "source": [
    "# Ans 2.\n",
    "\n",
    "\n",
    "# The four pillars of Object-Oriented Programming (OOP) are:\n",
    "\n",
    "# 1. Abstraction\n",
    "# 2. Encapsulation\n",
    "# 3. Inheritance\n",
    "# 4. Polymorphism"
   ]
  },
  {
   "cell_type": "code",
   "execution_count": 1,
   "id": "6eba2dfc",
   "metadata": {},
   "outputs": [
    {
     "name": "stdout",
     "output_type": "stream",
     "text": [
      "John\n",
      "36\n"
     ]
    }
   ],
   "source": [
    "# Ans 3.\n",
    "\n",
    "\n",
    "# The __init__ method is a special method in Python classes, known as the constructor.\n",
    "# It is executed automatically when an object of a class is created, and it is used to initialize the attributes of the object.\n",
    "\n",
    "# Here's a simple example of how the __init__ method can be used to initialize the attributes of an object in a class:\n",
    "\n",
    "\n",
    "class Person:\n",
    "    def __init__(self, name, age):\n",
    "        self.name = name\n",
    "        self.age = age\n",
    "\n",
    "p1 = Person(\"John\", 36)\n",
    "print(p1.name)\n",
    "print(p1.age)\n"
   ]
  },
  {
   "cell_type": "code",
   "execution_count": null,
   "id": "cc97f49e",
   "metadata": {},
   "outputs": [],
   "source": [
    "# Ans 4.\n",
    "\n",
    "\n",
    "# In object-oriented programming, self refers to the instance of the object itself.\n",
    "# It is used to access the attributes and methods of the class within the class definition. \n",
    "# self allows each object to maintain its own set of instance variables and ensures that the,\n",
    "# methods operate on the correct instance data.\n",
    "# This helps to keep the data and behavior of each object separate and provides a way to access,\n",
    "# the object's properties from within the object's methods."
   ]
  },
  {
   "cell_type": "code",
   "execution_count": null,
   "id": "41a9b3a1",
   "metadata": {},
   "outputs": [],
   "source": [
    "# Ans 5.\n",
    "\n",
    "\n",
    "# Inheritance is a concept in object-oriented programming (OOP)\n",
    "# that allows one class to inherit properties and methods from another class. \n",
    "# This helps to reduce duplication of code and makes it easier to extend and maintain existing classes.\n",
    "\n",
    "# There are several types of inheritance in OOP, including:\n",
    "\n",
    "# Single inheritance: A single class inherits from a single parent class. \n",
    "# For example, a \"Bird\" class might inherit from an \"Animal\" class.\n",
    "\n",
    "# Multiple inheritance: A single class inherits from multiple parent classes.\n",
    "# For example, a \"FlyingBird\" class might inherit from both \"Bird\" and \"FlyingAnimal\" classes.\n",
    "\n",
    "# Multi-level inheritance: A class inherits from a class that inherits from another class.\n",
    "# For example, a \"Pelican\" class might inherit from a \"Bird\" class, which inherits from an \"Animal\" class.\n",
    "\n",
    "# Hierarchical inheritance: Multiple classes inherit from a single parent class.\n",
    "# For example, a \"Duck\" class, a \"Peacock\" class, and a \"Ostrich\" class might all inherit from a \"Bird\" class.\n",
    "\n",
    "# Hybrid inheritance: A combination of two or more types of inheritance. \n",
    "# For example, a class might inherit from multiple parent classes using multiple inheritance, \n",
    "# and also have subclasses that inherit from it using hierarchical inheritance.\n",
    "\n",
    "\n",
    "\n"
   ]
  }
 ],
 "metadata": {
  "kernelspec": {
   "display_name": "Python 3 (ipykernel)",
   "language": "python",
   "name": "python3"
  },
  "language_info": {
   "codemirror_mode": {
    "name": "ipython",
    "version": 3
   },
   "file_extension": ".py",
   "mimetype": "text/x-python",
   "name": "python",
   "nbconvert_exporter": "python",
   "pygments_lexer": "ipython3",
   "version": "3.9.13"
  }
 },
 "nbformat": 4,
 "nbformat_minor": 5
}
