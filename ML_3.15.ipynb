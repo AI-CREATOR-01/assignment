{
 "cells": [
  {
   "cell_type": "markdown",
   "id": "5f1365a1",
   "metadata": {},
   "source": [
    "ANS.1"
   ]
  },
  {
   "cell_type": "markdown",
   "id": "5ba07c3d",
   "metadata": {},
   "source": [
    "AI(artificial intelligence):\n",
    "\n",
    "Artificial Intelligence is an smart application or machine or system which can perform its own task without human intervention.\n",
    "example:Self-driving cars that use sensors and AI algorithms to navigate roads and make decisions\n",
    "\n",
    "ML(machine learning):\n",
    "\n",
    "Machine learning is a subfield of artificial intelligence (AI) that involves the development of algorithms and provide statistical tools that enable computer systems/AI to learn from data.\n",
    "example:Recommender systems like those used by Netflix and Amazon to suggest movies and products based on users' past behavior and preferences\n",
    "\n",
    "\n",
    "Deep learning:\n",
    "\n",
    "is a subset of machine learning that involves training artificial neural networks with multiple layers to recognize and analyze complex patterns in data. Deep learning algorithms use a hierarchical approach, where lower layers learn simple features such as edges and corners, while higher layers learn more abstract features that represent entire objects or concepts.\n",
    "example:Image recognition systems that use convolutional neural networks to identify objects and patterns in images"
   ]
  },
  {
   "cell_type": "markdown",
   "id": "48a8e3a3",
   "metadata": {},
   "source": [
    "ANS.2"
   ]
  },
  {
   "cell_type": "markdown",
   "id": "723c9e62",
   "metadata": {},
   "source": [
    "Supervised learning is a type of machine learning in which the algorithm learns from a labeled dataset to make predictions or classifications on new, unlabeled data. In supervised learning, the input data is paired with the corresponding output or label, and the algorithm learns to map the inputs to the outputs.\n",
    "\n",
    "The goal of supervised learning is to learn a general mapping from input to output that can be applied to new, unseen data.\n",
    "\n",
    "Some examples of supervised learning include:\n",
    "\n",
    "Image classification: Given a set of labeled images, train a model to classify new images into the correct categories."
   ]
  },
  {
   "cell_type": "markdown",
   "id": "85871f42",
   "metadata": {},
   "source": [
    "ANS.3"
   ]
  },
  {
   "cell_type": "markdown",
   "id": "dbe4d4b5",
   "metadata": {},
   "source": [
    "Unsupervised learning is a type of machine learning in which the algorithm learns from an unlabeled dataset without any specific target output or labels. The goal of unsupervised learning is to identify patterns or structures within the data without any prior knowledge of what to look for.\n",
    "\n",
    "example:\n",
    "Clustering: Grouping similar data points together based on their features. For example, clustering similar customer                         behavior data to identify customer segments."
   ]
  },
  {
   "cell_type": "markdown",
   "id": "534958e8",
   "metadata": {},
   "source": [
    "ANS.4"
   ]
  },
  {
   "cell_type": "markdown",
   "id": "ce7cd7d5",
   "metadata": {},
   "source": [
    "AI (Artificial Intelligence), ML (Machine Learning), DL (Deep Learning), and DS (Data Science) are all related but distinct fields. Here are some differences between these fields:\n",
    "\n",
    "AI: AI is a broad field that involves the creation of intelligent machines that can perform tasks that would typically require human intelligence, such as speech recognition, decision-making, and problem-solving. AI includes machine learning and deep learning as subfields.\n",
    "\n",
    "ML: ML is a subset of AI that involves the use of algorithms to learn from data and make predictions or decisions without being explicitly programmed. ML algorithms can be supervised (using labeled data) or unsupervised (using unlabeled data).\n",
    "\n",
    "DL: DL is a subset of ML that involves the use of deep neural networks with many layers to learn from large amounts of data. DL has shown remarkable success in image recognition, natural language processing, and other areas.\n",
    "\n",
    "DS: DS involves the use of various techniques and tools from statistics, computer science, and other fields to extract insights and knowledge from large and complex datasets. DS includes data cleaning, data visualization, data analysis, and machine learning."
   ]
  },
  {
   "cell_type": "markdown",
   "id": "c75af37d",
   "metadata": {},
   "source": [
    "ANS.5"
   ]
  },
  {
   "cell_type": "markdown",
   "id": "e7e7bb09",
   "metadata": {},
   "source": [
    "Supervised learning, unsupervised learning, and semi-supervised learning are three types of machine learning approaches that are used to train models to make predictions or discover patterns in data. Here are their main differences:\n",
    "\n",
    "Supervised Learning:\n",
    "Supervised learning is a type of machine learning where the model is trained using labeled data, which means the input data is already classified or labeled. The algorithm learns to make predictions by analyzing the labeled data and identifying patterns that allow it to classify new, unlabeled data. Supervised learning is commonly used in applications such as image recognition, speech recognition, and sentiment analysis.\n",
    "\n",
    "Unsupervised Learning:\n",
    "Unsupervised learning is a type of machine learning where the model is trained using unlabeled data. The algorithm is left to discover patterns and structure in the data without any prior knowledge of what the output should be. Unsupervised learning is commonly used in applications such as clustering, anomaly detection, and dimensionality reduction.\n",
    "\n",
    "Semi-Supervised Learning:\n",
    "Semi-supervised learning is a hybrid approach that combines both labeled and unlabeled data to train the model. The idea behind semi-supervised learning is that labeled data is often expensive or difficult to obtain, so the model can benefit from the additional information provided by the unlabeled data. The algorithm learns from the labeled data and uses the patterns identified to classify the unlabeled data. Semi-supervised learning is commonly used in applications such as speech recognition, natural language processing, and computer vision."
   ]
  },
  {
   "cell_type": "markdown",
   "id": "39d9d351",
   "metadata": {},
   "source": [
    "ANS.6"
   ]
  },
  {
   "cell_type": "markdown",
   "id": "816ee8e7",
   "metadata": {},
   "source": [
    "In machine learning, a dataset is typically split into three parts: the training set, the validation set, and the testing set.\n",
    "\n",
    "The training set is used to train the model, i.e., to adjust its parameters to minimize the error on the training data. The validation set is used to tune the model's hyperparameters, such as the learning rate, regularization strength, and network architecture. The testing set is used to evaluate the model's generalization performance, i.e., how well it performs on unseen data.\n",
    "\n",
    "The importance of each split can be summarized as follows:\n",
    "\n",
    "Training set: The training set is the most important split since it is used to teach the model how to make predictions. The more diverse and representative the training set is, the better the model can learn to generalize well to new, unseen data.\n",
    "\n",
    "Validation set: The validation set is important because it is used to tune the model's hyperparameters, which can significantly affect the model's performance. Without a separate validation set, the model's hyperparameters may be overfitting to the training set, leading to poor generalization performance on the test set.\n",
    "\n",
    "Testing set: The testing set is used to estimate the model's generalization performance, i.e., how well it can make predictions on new, unseen data. It is crucial to keep the testing set separate from the training and validation sets to avoid overfitting and to obtain an unbiased estimate of the model's performance."
   ]
  },
  {
   "cell_type": "markdown",
   "id": "786cde89",
   "metadata": {},
   "source": [
    "ANS.7"
   ]
  },
  {
   "cell_type": "markdown",
   "id": "3003f47a",
   "metadata": {},
   "source": [
    "Unsupervised learning can be used in anomaly detection by training a model on a dataset with no labeled examples of anomalies. The goal of the model is to learn the patterns and structure in the data and identify any data points that are significantly different or \"anomalous\" from the rest of the data.\n",
    "\n",
    "One popular unsupervised learning approach for anomaly detection is called clustering. Clustering algorithms group similar data points together based on some similarity metric, such as Euclidean distance or cosine similarity. Anomalous data points, which are significantly different from the majority of the data, are likely to end up in their own cluster or in a cluster with very few other data points."
   ]
  },
  {
   "cell_type": "markdown",
   "id": "53787708",
   "metadata": {},
   "source": [
    "ANS.8"
   ]
  },
  {
   "cell_type": "code",
   "execution_count": null,
   "id": "990eca31",
   "metadata": {},
   "outputs": [],
   "source": [
    "Here are some commonly used supervised and unsupervised learning algorithms:\n",
    "\n",
    "Supervised Learning Algorithms:\n",
    "\n",
    "Linear Regression\n",
    "Logistic Regression\n",
    "Decision Trees\n",
    "Random Forest\n",
    "Support Vector Machines (SVM)\n",
    "Naive Bayes\n",
    "K-Nearest Neighbors (KNN)\n",
    "Neural Networks\n",
    "Gradient Boosting Machines (GBM)\n",
    "XGBoost\n",
    "Unsupervised Learning Algorithms:\n",
    "\n",
    "K-Means Clustering\n",
    "Hierarchical Clustering\n",
    "DBSCAN\n",
    "Principal Component Analysis (PCA)\n",
    "Independent Component Analysis (ICA)\n",
    "t-SNE (t-Distributed Stochastic Neighbor Embedding)\n",
    "Autoencoders\n",
    "Generative Adversarial Networks (GANs)\n",
    "Isolation Forest\n",
    "One-Class SVM"
   ]
  }
 ],
 "metadata": {
  "kernelspec": {
   "display_name": "Python 3 (ipykernel)",
   "language": "python",
   "name": "python3"
  },
  "language_info": {
   "codemirror_mode": {
    "name": "ipython",
    "version": 3
   },
   "file_extension": ".py",
   "mimetype": "text/x-python",
   "name": "python",
   "nbconvert_exporter": "python",
   "pygments_lexer": "ipython3",
   "version": "3.9.13"
  }
 },
 "nbformat": 4,
 "nbformat_minor": 5
}
