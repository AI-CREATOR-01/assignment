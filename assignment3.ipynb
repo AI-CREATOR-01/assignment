{
 "cells": [
  {
   "cell_type": "code",
   "execution_count": 24,
   "id": "537d6272-0090-4310-91f2-f5d6ed4e4971",
   "metadata": {},
   "outputs": [],
   "source": [
    "# Ans 2.\n",
    "\n",
    "list_1 = [1,2,3,4,5,6,7,8,9,10]\n",
    "square = list(map(lambda x : x**2,list_1))\n"
   ]
  },
  {
   "cell_type": "code",
   "execution_count": 25,
   "id": "eb01b027-a1c6-4c16-8d61-e5216ba9f778",
   "metadata": {},
   "outputs": [
    {
     "data": {
      "text/plain": [
       "[1, 4, 9, 16, 25, 36, 49, 64, 81, 100]"
      ]
     },
     "execution_count": 25,
     "metadata": {},
     "output_type": "execute_result"
    }
   ],
   "source": [
    "square"
   ]
  },
  {
   "cell_type": "code",
   "execution_count": 30,
   "id": "80f91161-47b3-4ba4-9148-5808800a0877",
   "metadata": {},
   "outputs": [],
   "source": [
    "# Ans 3.\n",
    "\n",
    "string = [1,2,3,4,5,6,7,8,9,10]\n",
    "string_1 = tuple(map(lambda x : str(x),string))"
   ]
  },
  {
   "cell_type": "code",
   "execution_count": 31,
   "id": "3684fc93-fafc-4082-9875-4e8bc8c32f32",
   "metadata": {},
   "outputs": [
    {
     "data": {
      "text/plain": [
       "('1', '2', '3', '4', '5', '6', '7', '8', '9', '10')"
      ]
     },
     "execution_count": 31,
     "metadata": {},
     "output_type": "execute_result"
    }
   ],
   "source": [
    "string_1"
   ]
  },
  {
   "cell_type": "code",
   "execution_count": 32,
   "id": "fe155446-7f2c-4366-bc18-8c4d70668f0a",
   "metadata": {},
   "outputs": [
    {
     "data": {
      "text/plain": [
       "620448401733239439360000"
      ]
     },
     "execution_count": 32,
     "metadata": {},
     "output_type": "execute_result"
    }
   ],
   "source": [
    "# Ans 4.\n",
    "\n",
    "list_1 = list(range(1,25,1))\n",
    "from functools import reduce\n",
    "reduce(lambda x,y : x*y,list_1)"
   ]
  },
  {
   "cell_type": "code",
   "execution_count": 36,
   "id": "b5ab16e3-2db9-4a79-815f-a8aa715ae1b1",
   "metadata": {},
   "outputs": [],
   "source": [
    "# Ans 5.\n",
    "\n",
    "list_2 = [2,3,6,9,27,60,90,120,55,46]\n",
    "values = list(filter(lambda x : x if x % 2==0 and x % 3==0 else False,list_2))"
   ]
  },
  {
   "cell_type": "code",
   "execution_count": 37,
   "id": "c31af1f7-e57f-42a8-a410-87555c37503d",
   "metadata": {},
   "outputs": [
    {
     "data": {
      "text/plain": [
       "[6, 60, 90, 120]"
      ]
     },
     "execution_count": 37,
     "metadata": {},
     "output_type": "execute_result"
    }
   ],
   "source": [
    "values"
   ]
  },
  {
   "cell_type": "code",
   "execution_count": 38,
   "id": "75f3427f-a28b-42b3-b7c7-23a5dd34dbbc",
   "metadata": {},
   "outputs": [],
   "source": [
    "# Ans 6.\n",
    "\n",
    "string = [\"python\", \"php\", \"aba\", \"radar\", \"level\"]\n",
    "palindromes = list(filter(lambda x : x if x[::1]==x[::-1] else False , string))"
   ]
  },
  {
   "cell_type": "code",
   "execution_count": 39,
   "id": "32a831db-b334-4857-98c8-7b763bba8e62",
   "metadata": {},
   "outputs": [
    {
     "data": {
      "text/plain": [
       "['php', 'aba', 'radar', 'level']"
      ]
     },
     "execution_count": 39,
     "metadata": {},
     "output_type": "execute_result"
    }
   ],
   "source": [
    "palindromes"
   ]
  },
  {
   "cell_type": "code",
   "execution_count": null,
   "id": "faf9b3e7-40ba-4eba-9abb-7e2ded241827",
   "metadata": {},
   "outputs": [],
   "source": []
  }
 ],
 "metadata": {
  "kernelspec": {
   "display_name": "Python 3 (ipykernel)",
   "language": "python",
   "name": "python3"
  },
  "language_info": {
   "codemirror_mode": {
    "name": "ipython",
    "version": 3
   },
   "file_extension": ".py",
   "mimetype": "text/x-python",
   "name": "python",
   "nbconvert_exporter": "python",
   "pygments_lexer": "ipython3",
   "version": "3.10.6"
  }
 },
 "nbformat": 4,
 "nbformat_minor": 5
}
