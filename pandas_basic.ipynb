{
 "cells": [
  {
   "cell_type": "code",
   "execution_count": 2,
   "id": "b8f009d2-6c4d-4584-963c-70e5b8705fbb",
   "metadata": {},
   "outputs": [
    {
     "name": "stdout",
     "output_type": "stream",
     "text": [
      "0     4\n",
      "1     8\n",
      "2    15\n",
      "3    16\n",
      "4    23\n",
      "5    42\n",
      "dtype: int64\n"
     ]
    }
   ],
   "source": [
    "# ANS.1\n",
    "\n",
    "\n",
    "import pandas as pd\n",
    "\n",
    "data = [4, 8, 15, 16, 23, 42]\n",
    "series = pd.Series(data)\n",
    "\n",
    "print(series)"
   ]
  },
  {
   "cell_type": "code",
   "execution_count": 3,
   "id": "5768c753-60ab-444b-9e79-9dea6656b09e",
   "metadata": {},
   "outputs": [
    {
     "name": "stdout",
     "output_type": "stream",
     "text": [
      "0     10\n",
      "1     20\n",
      "2     30\n",
      "3     40\n",
      "4     50\n",
      "5     60\n",
      "6     70\n",
      "7     80\n",
      "8     90\n",
      "9    100\n",
      "dtype: int64\n"
     ]
    }
   ],
   "source": [
    "# ANS.2\n",
    "\n",
    "\n",
    "import pandas as pd\n",
    "\n",
    "my_list = [10, 20, 30, 40, 50, 60, 70, 80, 90, 100]\n",
    "\n",
    "my_series = pd.Series(my_list)\n",
    "\n",
    "print(my_series)"
   ]
  },
  {
   "cell_type": "code",
   "execution_count": 7,
   "id": "13756621-3c4c-4079-9f08-516e5dc68583",
   "metadata": {},
   "outputs": [
    {
     "name": "stdout",
     "output_type": "stream",
     "text": [
      "     name  age  gender\n",
      "0   alice   25  female\n",
      "1     bob   30    male\n",
      "2  claire   27  female\n"
     ]
    }
   ],
   "source": [
    "# ANS.3\n",
    "\n",
    "import pandas as pd\n",
    "\n",
    "data = {\n",
    "    \"name\":[\"alice\",\"bob\",\"claire\"],\n",
    "    \"age\": [25,30,27],\n",
    "    \"gender\":[\"female\",\"male\",\"female\"]\n",
    "}\n",
    "\n",
    "data1 = pd.DataFrame(data)\n",
    "print(data1)"
   ]
  },
  {
   "cell_type": "code",
   "execution_count": 8,
   "id": "345d5827-73aa-47c8-a394-d938082c5ff1",
   "metadata": {},
   "outputs": [
    {
     "name": "stdout",
     "output_type": "stream",
     "text": [
      "    Name  Age      City\n",
      "0   John   25  New York\n",
      "1   Mike   30     Paris\n",
      "2  Sarah   27    London\n",
      "3   Anna   29    Sydney\n"
     ]
    }
   ],
   "source": [
    "# ANS.4\n",
    "\n",
    "# In Pandas, a DataFrame is a two-dimensional labeled data structure consisting of rows and columns.\n",
    "# It is similar to a spreadsheet or a SQL table. Each column in a DataFrame is a Pandas Series object.\n",
    "# The main difference between a Series and a DataFrame is that a Series represents a single column of data, \n",
    "# while a DataFrame can hold multiple columns of data.\n",
    "\n",
    "# here is an example\n",
    "\n",
    "import pandas as pd\n",
    "\n",
    "# create a dictionary with data\n",
    "data = {'Name': ['John', 'Mike', 'Sarah', 'Anna'],\n",
    "        'Age': [25, 30, 27, 29],\n",
    "        'City': ['New York', 'Paris', 'London', 'Sydney']}\n",
    "\n",
    "# create a dataframe from dictionary\n",
    "df = pd.DataFrame(data)\n",
    "\n",
    "# display the dataframe\n",
    "print(df)\n"
   ]
  },
  {
   "cell_type": "code",
   "execution_count": 12,
   "id": "ff21ec1a-0c54-4bbd-afce-fcbb7af8415f",
   "metadata": {},
   "outputs": [
    {
     "name": "stdout",
     "output_type": "stream",
     "text": [
      "    name  age      city\n",
      "0   John   30  New York\n",
      "1  Alice   25     Paris\n",
      "2    Bob   35    London\n"
     ]
    }
   ],
   "source": [
    "# ANS.5\n",
    "\n",
    "# There are many functions available in Pandas for manipulating data in a DataFrame. Here are some common ones:\n",
    "\n",
    "# head(n): returns the first n rows of the DataFrame\n",
    "# tail(n): returns the last n rows of the DataFrame\n",
    "\n",
    "\n",
    "import pandas as pd\n",
    "\n",
    "# create a dictionary of data\n",
    "data = {'name': ['John', 'Alice', 'Bob', 'Mary', 'David', 'Sarah'],\n",
    "        'age': [30, 25, 35, 27, 23, 29],\n",
    "        'city': ['New York', 'Paris', 'London', 'Berlin', 'Sydney', 'Tokyo']}\n",
    "\n",
    "# create a Pandas dataframe\n",
    "df = pd.DataFrame(data)\n",
    "\n",
    "# show the first 3 rows of the dataframe\n",
    "print(df.head(3))\n"
   ]
  },
  {
   "cell_type": "code",
   "execution_count": null,
   "id": "e532b79d-d43b-4ad3-986c-251330c38b30",
   "metadata": {},
   "outputs": [],
   "source": [
    "# ANS.6\n",
    "\n",
    "# In pandas, both Series and DataFrame are mutable, which means you can modify their values after they have been created.\n",
    "# However, Panel has been deprecated since version 0.25.0 and has been replaced by the multi-dimensional DataFrame."
   ]
  },
  {
   "cell_type": "code",
   "execution_count": null,
   "id": "2d3ffe2d-d857-448f-9694-cd743d33b9b1",
   "metadata": {},
   "outputs": [],
   "source": [
    "#  ANS.7\n",
    "\n",
    "\n",
    "import pandas as pd\n",
    "\n",
    "# Create three series\n",
    "s1 = pd.Series([10, 20, 30, 40], name='')\n",
    "s2 = pd.Series(['apple', 'banana', 'cherry', 'date'], name='B')\n",
    "s3 = pd.Series([True, False, True, False], name='C')\n",
    "\n",
    "# Concatenate the series to create a DataFrame\n",
    "df = pd.concat([s1, s2, s3], axis=1)\n",
    "\n",
    "# Print the DataFrame\n",
    "print(df)\n"
   ]
  }
 ],
 "metadata": {
  "kernelspec": {
   "display_name": "Python 3 (ipykernel)",
   "language": "python",
   "name": "python3"
  },
  "language_info": {
   "codemirror_mode": {
    "name": "ipython",
    "version": 3
   },
   "file_extension": ".py",
   "mimetype": "text/x-python",
   "name": "python",
   "nbconvert_exporter": "python",
   "pygments_lexer": "ipython3",
   "version": "3.10.8"
  }
 },
 "nbformat": 4,
 "nbformat_minor": 5
}
