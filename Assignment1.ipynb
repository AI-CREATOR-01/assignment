{
 "cells": [
  {
   "cell_type": "code",
   "execution_count": 3,
   "id": "83bf22df-9f25-49ae-8e85-f9d469d92369",
   "metadata": {},
   "outputs": [
    {
     "name": "stdout",
     "output_type": "stream",
     "text": [
      "apple is my favourate fruit\n",
      "banana is my favourate fruit\n",
      "orange is my favourate fruit\n",
      "1\n",
      "2\n",
      "3\n",
      "4\n",
      "5\n",
      "6\n",
      "7\n",
      "8\n",
      "9\n",
      "10\n"
     ]
    }
   ],
   "source": [
    "# Ans 1.\n",
    "\n",
    "# A for loop is used when we already know number of iteration. it means when we already know that\n",
    "# how many times a bunch of code has to be executed. a for loop end when it reach to end iteration or end point.\n",
    "\n",
    "# A while loop is used when we want to repeat a block of code as long as a certain condition is met.\n",
    "# it is useful when we don't know that how many times a block of code has to be executed.\n",
    "\n",
    "    \n",
    "# example fo for loop\n",
    "\n",
    "fruits = [\"apple\", 'banana', \"orange\"]\n",
    "for fruit in fruits:\n",
    "    print(f\"{fruit} is my favourate fruit\")\n",
    "\n",
    "# example of while loop\n",
    "\n",
    "a = 1\n",
    "while a<=10:\n",
    "    print(a)\n",
    "    a = a+1\n"
   ]
  },
  {
   "cell_type": "code",
   "execution_count": 2,
   "id": "8748fe9a-6ded-4948-9dbb-b7df830260d5",
   "metadata": {},
   "outputs": [
    {
     "name": "stdout",
     "output_type": "stream",
     "text": [
      "the sum of first 10 natural number is 55\n",
      "the product of first 10 natural number is 3628800\n"
     ]
    }
   ],
   "source": [
    "# Ans 2.\n",
    "\n",
    "# program to print the sum of first 10 nnatural number.\n",
    "\n",
    "a = 0\n",
    "for x in range(1,11,1):\n",
    "    a = x+a\n",
    "print(f\"the sum of first 10 natural number is {a}\")\n",
    "    \n",
    "# program to print the product of first 10 natural number\n",
    "\n",
    "a,b = 1,1\n",
    "while a<=10:\n",
    "    b = a*b\n",
    "    a = a+1\n",
    "print(f\"the product of first 10 natural number is {b}\")"
   ]
  },
  {
   "cell_type": "code",
   "execution_count": 4,
   "id": "46072553-fbea-4317-aadf-79339c674ef1",
   "metadata": {},
   "outputs": [
    {
     "name": "stdin",
     "output_type": "stream",
     "text": [
      "enter the total units of electricity consumed!\n",
      " 310\n"
     ]
    },
    {
     "name": "stdout",
     "output_type": "stream",
     "text": [
      "your total bill is 2250.0\n"
     ]
    }
   ],
   "source": [
    "# Ans 3.\n",
    "\n",
    "# program to compute electricity bill\n",
    "\n",
    "total_units = float(input(\"enter the total units of electricity consumed!\\n\"))\n",
    "\n",
    "if total_units<=100:\n",
    "    print(f\"your total bill is {total_units*4.5}\")\n",
    "elif total_units<=200 and total_units>100:\n",
    "    print(f\"your total bill is {100*4.5 + (total_units - 100)*6}\")\n",
    "elif total_units<=300 and total_units>200:\n",
    "    print(f\"your total bill is {100*4.5 + 100*6 +  (total_units-200)*10}\")\n",
    "else:\n",
    "    print(f\"your total bill is {100*4.5 + 100*6 + 100*10 + (total_units-300)*20}\") \n",
    "     \n",
    "            \n",
    "    \n",
    "\n",
    "                    "
   ]
  },
  {
   "cell_type": "code",
   "execution_count": 5,
   "id": "66f33426-13f2-4319-839d-544494b2fdc2",
   "metadata": {},
   "outputs": [
    {
     "name": "stdout",
     "output_type": "stream",
     "text": [
      "[1, 2, 3, 4, 5, 6, 7, 8, 9, 10, 11, 12, 13, 14, 15, 16, 17, 18, 19, 20, 21, 22, 23, 24, 25, 26, 27, 28, 29, 30, 31, 32, 33, 34, 35, 36, 37, 38, 39, 40, 41, 42, 43, 44, 45, 46, 47, 48, 49, 50, 51, 52, 53, 54, 55, 56, 57, 58, 59, 60, 61, 62, 63, 64, 65, 66, 67, 68, 69, 70, 71, 72, 73, 74, 75, 76, 77, 78, 79, 80, 81, 82, 83, 84, 85, 86, 87, 88, 89, 90, 91, 92, 93, 94, 95, 96, 97, 98, 99, 100]\n",
      "[8, 64, 125, 216, 512, 1000, 1728, 2744, 3375, 4096, 5832, 8000, 10648, 13824, 15625, 17576, 21952, 27000, 32768, 39304, 42875, 46656, 54872, 64000, 74088, 85184, 91125, 97336, 110592, 125000, 140608, 157464, 166375, 175616, 195112, 216000, 238328, 262144, 274625, 287496, 314432, 343000, 373248, 405224, 421875, 438976, 474552, 512000, 551368, 592704, 614125, 636056, 681472, 729000, 778688, 830584, 857375, 884736, 941192, 1000000]\n"
     ]
    }
   ],
   "source": [
    "# Ans 4.\n",
    "a = 1\n",
    "list = []\n",
    "while a<=100:\n",
    "    list.append(a)\n",
    "    a = a+1\n",
    "print(list)\n",
    "\n",
    "list1 = []\n",
    "for x in list:\n",
    "    x = x**3\n",
    "    if x%4==0 or x%5==0:\n",
    "        list1.append(x)\n",
    "print(list1)\n",
    "    \n",
    "    \n",
    "            "
   ]
  },
  {
   "cell_type": "code",
   "execution_count": 19,
   "id": "d167f27e-23db-4946-8dba-0175c10920ad",
   "metadata": {},
   "outputs": [
    {
     "name": "stdout",
     "output_type": "stream",
     "text": [
      "total vowels in string is 12\n"
     ]
    }
   ],
   "source": [
    "# Ans 5.\n",
    "\n",
    "string = \"i want to become a data scientist\"\n",
    "list = []\n",
    "list.extend(string)\n",
    "vowels = \"aeiou\"\n",
    "a = 0\n",
    "for x in list:\n",
    "    if x in vowels :\n",
    "        a = a+1\n",
    "        \n",
    "print(f\"total vowels in string is {a}\")\n",
    "        \n",
    "    \n",
    "    "
   ]
  }
 ],
 "metadata": {
  "kernelspec": {
   "display_name": "Python 3 (ipykernel)",
   "language": "python",
   "name": "python3"
  },
  "language_info": {
   "codemirror_mode": {
    "name": "ipython",
    "version": 3
   },
   "file_extension": ".py",
   "mimetype": "text/x-python",
   "name": "python",
   "nbconvert_exporter": "python",
   "pygments_lexer": "ipython3",
   "version": "3.10.8"
  }
 },
 "nbformat": 4,
 "nbformat_minor": 5
}
