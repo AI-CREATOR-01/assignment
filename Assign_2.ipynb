{
 "cells": [
  {
   "cell_type": "markdown",
   "id": "358c9773",
   "metadata": {},
   "source": [
    "Q1. Which keyword is used to create a function? Create a function to return a list of odd numbers in the range of 1 to 25."
   ]
  },
  {
   "cell_type": "markdown",
   "id": "b042b772",
   "metadata": {},
   "source": [
    "The keyword used to create a function in Python is \"def\". Here is an example of a function that returns a list of odd numbers in the range of 1 to 25:"
   ]
  },
  {
   "cell_type": "code",
   "execution_count": 1,
   "id": "531e8e9c",
   "metadata": {},
   "outputs": [
    {
     "name": "stdout",
     "output_type": "stream",
     "text": [
      "[1, 3, 5, 7, 9, 11, 13, 15, 17, 19, 21, 23, 25]\n"
     ]
    }
   ],
   "source": [
    "def get_odd_numbers():\n",
    "    odd_numbers = []\n",
    "    for num in range(1, 26):\n",
    "        if num % 2 != 0:\n",
    "            odd_numbers.append(num)\n",
    "    return odd_numbers\n",
    "my_odd_numbers = get_odd_numbers()\n",
    "print(my_odd_numbers)\n"
   ]
  },
  {
   "cell_type": "markdown",
   "id": "9bfd62cc",
   "metadata": {},
   "source": [
    "Q2. Why *args and **kwargs is used in some functions? Create a function each for *args and **kwargs\n",
    "to demonstrate their use."
   ]
  },
  {
   "cell_type": "markdown",
   "id": "cbc5552e",
   "metadata": {},
   "source": [
    "In Python, *args and **kwargs are special syntax used in function definitions to allow the function to accept an arbitrary number of arguments and/or keyword arguments.\n",
    "\n",
    "*args is used to pass a variable number of non-keyword arguments to a function. It allows us to pass any number of arguments to the function without having to specify the number of arguments in advance. Within the function, *args is treated as a tuple of the positional arguments passed in.\n",
    "\n",
    "Here's an example of a function that uses *args:"
   ]
  },
  {
   "cell_type": "code",
   "execution_count": 3,
   "id": "6201de94",
   "metadata": {},
   "outputs": [],
   "source": [
    "def sum_numbers(*args):\n",
    "    total = 0\n",
    "    for num in args:\n",
    "        total += num\n",
    "    return total\n"
   ]
  },
  {
   "cell_type": "markdown",
   "id": "8cb4fc32",
   "metadata": {},
   "source": [
    "In this function, we define a parameter called *args, which collects any number of positional arguments passed in when the function is called. We then loop through the args tuple and add up all the numbers, returning the total.\n",
    "\n",
    "We can call this function with any number of arguments, like this:"
   ]
  },
  {
   "cell_type": "code",
   "execution_count": 4,
   "id": "1adb14aa",
   "metadata": {},
   "outputs": [
    {
     "name": "stdout",
     "output_type": "stream",
     "text": [
      "6\n",
      "15\n"
     ]
    }
   ],
   "source": [
    "print(sum_numbers(1, 2, 3)) # Output: 6\n",
    "print(sum_numbers(1, 2, 3, 4, 5)) # Output: 15\n"
   ]
  },
  {
   "cell_type": "markdown",
   "id": "8ec4e96e",
   "metadata": {},
   "source": [
    "**kwargs is used to pass a variable number of keyword arguments to a function. It allows us to pass any number of keyword arguments to the function without having to specify the names or number of arguments in advance. Within the function, **kwargs is treated as a dictionary of the keyword arguments passed in.\n",
    "\n",
    "Here's an example of a function that uses **kwargs:"
   ]
  },
  {
   "cell_type": "code",
   "execution_count": 5,
   "id": "d2335269",
   "metadata": {},
   "outputs": [],
   "source": [
    "def print_kwargs(**kwargs):\n",
    "    for key, value in kwargs.items():\n",
    "        print(f\"{key}: {value}\")\n"
   ]
  },
  {
   "cell_type": "markdown",
   "id": "5d4e6695",
   "metadata": {},
   "source": [
    "In this function, we define a parameter called **kwargs, which collects any number of keyword arguments passed in when the function is called. We then loop through the kwargs dictionary and print out each key-value pair.\n",
    "\n",
    "We can call this function with any number of keyword arguments, like this:"
   ]
  },
  {
   "cell_type": "code",
   "execution_count": 6,
   "id": "522662f6",
   "metadata": {},
   "outputs": [
    {
     "name": "stdout",
     "output_type": "stream",
     "text": [
      "name: Alice\n",
      "age: 30\n",
      "location: New York\n"
     ]
    }
   ],
   "source": [
    "print_kwargs(name=\"Alice\", age=30, location=\"New York\") \n",
    "# Output: \n",
    "# name: Alice\n",
    "# age: 30\n",
    "# location: New York\n"
   ]
  },
  {
   "cell_type": "markdown",
   "id": "ab999da0",
   "metadata": {},
   "source": [
    "Q3. What is an iterator in python? Name the method used to initialise the iterator object and the method\n",
    "used for iteration. Use these methods to print the first five elements of the given list [2, 4, 6, 8, 10, 12, 14,\n",
    "16, 18, 20]."
   ]
  },
  {
   "cell_type": "markdown",
   "id": "7235c285",
   "metadata": {},
   "source": [
    "In Python, an iterator is an object that implements the iterator protocol, which consists of two methods: iter() and next(). The iter() method returns the iterator object itself, while the next() method returns the next value from the iterator.\n",
    "\n",
    "To initialize an iterator object, we can call the iter() function on an iterable object, such as a list, tuple, or string. The iter() function returns an iterator object, which we can then use to iterate over the elements of the iterable.\n",
    "\n",
    "To iterate over the elements of an iterator, we can use a for loop or the next() function. The for loop automatically calls the next() method on the iterator until it is exhausted, while the next() function manually calls the next() method and raises a StopIteration exception when the iterator is exhausted.\n",
    "\n",
    "Here's an example of how to use the iter() function and a for loop to print the first five elements of the given list [2, 4, 6, 8, 10, 12, 14, 16, 18, 20]:"
   ]
  },
  {
   "cell_type": "code",
   "execution_count": 7,
   "id": "dca92c5c",
   "metadata": {},
   "outputs": [
    {
     "name": "stdout",
     "output_type": "stream",
     "text": [
      "2\n",
      "4\n",
      "6\n",
      "8\n",
      "10\n"
     ]
    }
   ],
   "source": [
    "my_list = [2, 4, 6, 8, 10, 12, 14, 16, 18, 20]\n",
    "\n",
    "# Initialize the iterator object\n",
    "my_iterator = iter(my_list)\n",
    "\n",
    "# Use a for loop to iterate over the first five elements\n",
    "for i in range(5):\n",
    "    element = next(my_iterator)\n",
    "    print(element)\n"
   ]
  },
  {
   "cell_type": "markdown",
   "id": "fb71fbef",
   "metadata": {},
   "source": [
    "Q4. What is a generator function in python? Why yield keyword is used? Give an example of a generator\n",
    "function."
   ]
  },
  {
   "cell_type": "markdown",
   "id": "7f54f77b",
   "metadata": {},
   "source": [
    "In Python, a generator function is a special kind of function that can be used to create iterators. Unlike regular functions, which return a value and then exit, generator functions can yield a series of values one at a time using the yield keyword. When a generator function is called, it returns a generator object, which can be iterated over using a for loop or the next() function.\n",
    "\n",
    "The yield keyword is used in generator functions to yield a value to the caller, without exiting the function. When the yield statement is executed, the function's state is saved, and the yielded value is returned to the caller. The next time the function is called, execution resumes immediately after the yield statement, with all local variables and their values still intact.\n",
    "\n",
    "Here's an example of a generator function that yields the first n Fibonacci numbers:"
   ]
  },
  {
   "cell_type": "code",
   "execution_count": 8,
   "id": "6f9c616d",
   "metadata": {},
   "outputs": [],
   "source": [
    "def fibonacci_generator(n):\n",
    "    a, b = 0, 1\n",
    "    for i in range(n):\n",
    "        yield a\n",
    "        a, b = b, a + b\n"
   ]
  },
  {
   "cell_type": "markdown",
   "id": "8232fd3b",
   "metadata": {},
   "source": [
    "In this example, the function defines two variables, a and b, to keep track of the previous two Fibonacci numbers. It then enters a loop that yields the current value of a, and updates the values of a and b to the next two Fibonacci numbers. When the loop has run n times, the function exits.\n",
    "\n",
    "To use this generator function, we can call it with a value of n and iterate over the generator object using a for loop or the next() function:"
   ]
  },
  {
   "cell_type": "code",
   "execution_count": 9,
   "id": "94d6e5c3",
   "metadata": {},
   "outputs": [
    {
     "name": "stdout",
     "output_type": "stream",
     "text": [
      "0\n",
      "1\n",
      "1\n",
      "2\n",
      "3\n",
      "5\n",
      "8\n",
      "13\n",
      "21\n",
      "34\n"
     ]
    }
   ],
   "source": [
    "for fib in fibonacci_generator(10):\n",
    "    print(fib)\n"
   ]
  },
  {
   "cell_type": "markdown",
   "id": "1e1e4dd8",
   "metadata": {},
   "source": [
    "Q5. Create a generator function for prime numbers less than 1000. Use the next() method to print the\n",
    "first 20 prime numbers."
   ]
  },
  {
   "cell_type": "code",
   "execution_count": 10,
   "id": "c0e05b40",
   "metadata": {},
   "outputs": [
    {
     "name": "stdout",
     "output_type": "stream",
     "text": [
      "2\n",
      "3\n",
      "5\n",
      "7\n",
      "11\n",
      "13\n",
      "17\n",
      "19\n",
      "23\n",
      "29\n",
      "31\n",
      "37\n",
      "41\n",
      "43\n",
      "47\n",
      "53\n",
      "59\n",
      "61\n",
      "67\n",
      "71\n"
     ]
    }
   ],
   "source": [
    "def primes_generator():\n",
    "    # yield the first prime number\n",
    "    yield 2\n",
    "    \n",
    "    # iterate over odd numbers from 3 to 999\n",
    "    for n in range(3, 1000, 2):\n",
    "        # check if n is prime\n",
    "        for i in range(2, int(n ** 0.5) + 1):\n",
    "            if n % i == 0:\n",
    "                break\n",
    "        else:\n",
    "            # n is prime, yield it\n",
    "            yield n\n",
    "\n",
    "# create a generator object for prime numbers less than 1000\n",
    "prime_generator = primes_generator()\n",
    "\n",
    "# print the first 20 prime numbers using the next() method\n",
    "for i in range(20):\n",
    "    print(next(prime_generator))\n"
   ]
  },
  {
   "cell_type": "markdown",
   "id": "ef88d804",
   "metadata": {},
   "source": [
    "Q6. Write a python program to print the first 10 Fibonacci numbers using a while loop."
   ]
  },
  {
   "cell_type": "code",
   "execution_count": 11,
   "id": "5dddb8ca",
   "metadata": {},
   "outputs": [
    {
     "name": "stdout",
     "output_type": "stream",
     "text": [
      "0\n",
      "1\n",
      "1\n",
      "2\n",
      "3\n",
      "5\n",
      "8\n",
      "13\n",
      "21\n",
      "34\n"
     ]
    }
   ],
   "source": [
    "# initialize variables for the first two Fibonacci numbers\n",
    "a, b = 0, 1\n",
    "\n",
    "# initialize a counter variable to track the number of Fibonacci numbers printed\n",
    "count = 0\n",
    "\n",
    "# use a while loop to print the first 10 Fibonacci numbers\n",
    "while count < 10:\n",
    "    # print the current Fibonacci number\n",
    "    print(a)\n",
    "    \n",
    "    # update the values of a and b to the next two Fibonacci numbers\n",
    "    a, b = b, a + b\n",
    "    \n",
    "    # increment the counter variable\n",
    "    count += 1\n"
   ]
  },
  {
   "cell_type": "markdown",
   "id": "e812c29d",
   "metadata": {},
   "source": [
    "Q7. Write a List Comprehension to iterate through the given string: ‘pwskills’.\n",
    "Expected output: ['p', 'w', 's', 'k', 'i', 'l', 'l', 's']"
   ]
  },
  {
   "cell_type": "code",
   "execution_count": 14,
   "id": "aa9f7119",
   "metadata": {},
   "outputs": [
    {
     "name": "stdout",
     "output_type": "stream",
     "text": [
      "['p', 'w', 's', 'k', 'i', 'l', 'l', 's']\n"
     ]
    }
   ],
   "source": [
    "string = 'pwskills'\n",
    "filtered_list = [char for char in string]\n",
    "print(filtered_list)\n"
   ]
  },
  {
   "cell_type": "markdown",
   "id": "4e2c1070",
   "metadata": {},
   "source": [
    "Q8. Write a python program to check whether a given number is Palindrome or not using a while loop."
   ]
  },
  {
   "cell_type": "code",
   "execution_count": 15,
   "id": "ce9643b1",
   "metadata": {},
   "outputs": [
    {
     "name": "stdout",
     "output_type": "stream",
     "text": [
      "Enter a number: 12\n",
      "12 is not a palindrome number.\n"
     ]
    }
   ],
   "source": [
    "num = int(input(\"Enter a number: \"))\n",
    "original_num = num  # storing the original number\n",
    "reverse_num = 0\n",
    "\n",
    "while num > 0:\n",
    "    digit = num % 10\n",
    "    reverse_num = (reverse_num * 10) + digit\n",
    "    num = num // 10\n",
    "\n",
    "if original_num == reverse_num:\n",
    "    print(original_num, \"is a palindrome number.\")\n",
    "else:\n",
    "    print(original_num, \"is not a palindrome number.\")\n"
   ]
  },
  {
   "cell_type": "markdown",
   "id": "446cff02",
   "metadata": {},
   "source": [
    "Q9. Write a code to print odd numbers from 1 to 100 using list comprehension."
   ]
  },
  {
   "cell_type": "code",
   "execution_count": 16,
   "id": "c3106058",
   "metadata": {},
   "outputs": [
    {
     "name": "stdout",
     "output_type": "stream",
     "text": [
      "[1, 3, 5, 7, 9, 11, 13, 15, 17, 19, 21, 23, 25, 27, 29, 31, 33, 35, 37, 39, 41, 43, 45, 47, 49, 51, 53, 55, 57, 59, 61, 63, 65, 67, 69, 71, 73, 75, 77, 79, 81, 83, 85, 87, 89, 91, 93, 95, 97, 99]\n"
     ]
    }
   ],
   "source": [
    "odd_numbers = [num for num in range(1, 101) if num % 2 != 0]\n",
    "\n",
    "print(odd_numbers)\n"
   ]
  }
 ],
 "metadata": {
  "kernelspec": {
   "display_name": "Python 3 (ipykernel)",
   "language": "python",
   "name": "python3"
  },
  "language_info": {
   "codemirror_mode": {
    "name": "ipython",
    "version": 3
   },
   "file_extension": ".py",
   "mimetype": "text/x-python",
   "name": "python",
   "nbconvert_exporter": "python",
   "pygments_lexer": "ipython3",
   "version": "3.9.13"
  }
 },
 "nbformat": 4,
 "nbformat_minor": 5
}
