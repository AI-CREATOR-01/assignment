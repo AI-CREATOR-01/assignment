{
 "cells": [
  {
   "cell_type": "code",
   "execution_count": null,
   "id": "8d27b413-c32d-4612-b335-882e4f68d14b",
   "metadata": {},
   "outputs": [],
   "source": [
    "# Ans 1.\n",
    "\n",
    "# the def keyword is used to create a function.\n",
    "\n",
    "list_1 = list(range(1,25,1))\n",
    "list_2 = []\n",
    "def odd_number():\n",
    "    for x in list_1:\n",
    "        if x % 2 != 0:\n",
    "            list_2.append(x)\n",
    "    return list_2\n",
    "    "
   ]
  },
  {
   "cell_type": "code",
   "execution_count": 30,
   "id": "0c5924a8-d969-4e19-9957-53b570e4f54f",
   "metadata": {},
   "outputs": [
    {
     "data": {
      "text/plain": [
       "[1, 3, 5, 7, 9, 11, 13, 15, 17, 19, 21, 23]"
      ]
     },
     "execution_count": 30,
     "metadata": {},
     "output_type": "execute_result"
    }
   ],
   "source": [
    "odd_number()"
   ]
  },
  {
   "cell_type": "code",
   "execution_count": null,
   "id": "3ee9902c-392a-4a75-bfa6-45c38dda2ddd",
   "metadata": {},
   "outputs": [],
   "source": [
    "# Ans 2.\n",
    "\n",
    "# the *args and **kwargs is used to pass multiple no of arguments to a function.\n",
    "\n",
    "# the *args is used to pass non-keyworded arguments whereas **kwargs is used to\n",
    "# pass keyworded arguments to a function.\n",
    "\n",
    "# in case of *args the function store/return arguments as a set whereas in case\n",
    "# of **kwargs the function store/retuen arguments as a dictionary.\n",
    "    \n",
    "\n",
    "def multi_args(*args):\n",
    "    return args\n",
    "\n",
    "multi_args(\"hello\", \"world\", 100)\n",
    "\n",
    "def multi_args_1(**kwargs):\n",
    "    return kwargs\n",
    "\n",
    "multi_args_1(a=1, name=\"sanit\")"
   ]
  },
  {
   "cell_type": "code",
   "execution_count": 24,
   "id": "d7dee1a5-1af3-44cb-a6ef-150babefe0b6",
   "metadata": {},
   "outputs": [
    {
     "name": "stdout",
     "output_type": "stream",
     "text": [
      "2\n",
      "4\n",
      "6\n",
      "8\n",
      "10\n"
     ]
    }
   ],
   "source": [
    "# Ans 3.\n",
    "\n",
    "# An iterator is an object/data that can be iterated upon.\n",
    "# it means such a object/data that we can fetch/traverse all elements/items one by one.\n",
    "\n",
    "# An iterator object is made up of two methods iter() and next().\n",
    "\n",
    "# iter() method is used to initialize the iterator whereas next()\n",
    "# method is used for iteration which means to get the next value of iterator.\n",
    "\n",
    "list = [2,4,6,8,10,12,14,16,18,20]\n",
    "list_1 = iter(list)\n",
    "for x in range(5):\n",
    "    print(next(list_1))"
   ]
  },
  {
   "cell_type": "code",
   "execution_count": 3,
   "id": "77cc2d57-210c-44c1-84b1-ae5f99bcc31b",
   "metadata": {},
   "outputs": [],
   "source": [
    "# Ans 4.\n",
    "\n",
    "# the generator function is defined like a normal function instead of using \"return\" keyword\n",
    "# it uses \"yield\" keyword to return values.\n",
    "\n",
    "# \"yield\" keyword is used in generator function to return a sequence of values over the time\n",
    "# rather than computing them all at once and providing them in a list.\n",
    "\n",
    "def even_number():\n",
    "    for x in range(9):\n",
    "        if x % 2 == 0:\n",
    "            yield x"
   ]
  },
  {
   "cell_type": "code",
   "execution_count": 4,
   "id": "832bc2c7-6c21-4c2c-9c2f-6fab60ca4e29",
   "metadata": {},
   "outputs": [
    {
     "name": "stdout",
     "output_type": "stream",
     "text": [
      "0\n",
      "2\n",
      "4\n",
      "6\n",
      "8\n"
     ]
    }
   ],
   "source": [
    "for a in even_number():\n",
    "    print(a)"
   ]
  },
  {
   "cell_type": "code",
   "execution_count": 7,
   "id": "d5f58647-03be-4158-8dcb-8333743fc9d5",
   "metadata": {},
   "outputs": [
    {
     "name": "stdout",
     "output_type": "stream",
     "text": [
      "1\n",
      "3\n",
      "5\n",
      "7\n",
      "9\n",
      "11\n",
      "13\n",
      "15\n",
      "17\n",
      "19\n",
      "21\n",
      "23\n",
      "25\n",
      "27\n",
      "29\n",
      "31\n",
      "33\n",
      "35\n",
      "37\n",
      "39\n"
     ]
    }
   ],
   "source": [
    "# Ans 5.\n",
    "\n",
    "list_1 = list(range(1,1000,2))\n",
    "count = 0\n",
    "while count<20:\n",
    "    print(list_1[count])\n",
    "    count+=1\n",
    "        "
   ]
  },
  {
   "cell_type": "code",
   "execution_count": 50,
   "id": "43334276-c8b4-4c67-a312-3d81bc19eb2c",
   "metadata": {},
   "outputs": [
    {
     "name": "stdout",
     "output_type": "stream",
     "text": [
      "1\n",
      "1\n",
      "2\n",
      "3\n",
      "5\n",
      "8\n",
      "13\n",
      "21\n",
      "34\n",
      "55\n"
     ]
    }
   ],
   "source": [
    "# Ans 6.\n",
    "\n",
    "counter = 1\n",
    "a, b = 0, 1\n",
    "while counter<=10:\n",
    "    a, b = b,a+b\n",
    "    counter = counter +1\n",
    "    print(a)"
   ]
  },
  {
   "cell_type": "code",
   "execution_count": 52,
   "id": "5f450fdf-57af-4dbb-9971-27ad49c98a40",
   "metadata": {},
   "outputs": [
    {
     "data": {
      "text/plain": [
       "['p', 'w', 's', 'k', 'i', 'l', 'l', 's']"
      ]
     },
     "execution_count": 52,
     "metadata": {},
     "output_type": "execute_result"
    }
   ],
   "source": [
    "# Ans 7.\n",
    "\n",
    "string = \"pwskills\"\n",
    "[i for i in string]"
   ]
  },
  {
   "cell_type": "code",
   "execution_count": 4,
   "id": "f49ae044-5746-4405-9b82-f22738f65548",
   "metadata": {},
   "outputs": [
    {
     "name": "stdin",
     "output_type": "stream",
     "text": [
      "enter your number:  11\n"
     ]
    },
    {
     "name": "stdout",
     "output_type": "stream",
     "text": [
      "yes 11 is a palindrome number\n"
     ]
    }
   ],
   "source": [
    "# Ans 8.\n",
    "\n",
    "# program to know palindrome number\n",
    "\n",
    "number = input(\"enter your number: \")\n",
    "count = True\n",
    "while count:\n",
    "    if number[::1]==number[::-1]:\n",
    "        print(f\"yes {number} is a palindrome number\")\n",
    "    else:\n",
    "        print(f\" sorry {number} is not a palindrome number\")\n",
    "    count = False"
   ]
  },
  {
   "cell_type": "code",
   "execution_count": 38,
   "id": "2e7aae04-775e-4ea5-b91b-3b1f5bd46899",
   "metadata": {},
   "outputs": [],
   "source": [
    "# Ans 9.\n",
    "\n",
    "# this program will give a list of number 1 to 100\n",
    "list = [i for i in range(1,101,1)]\n",
    "\n",
    "\n",
    "# this line of code will filter only odd number from list\n",
    "list_1 = [i for i in list if i % 2 != 0 ]"
   ]
  },
  {
   "cell_type": "code",
   "execution_count": 40,
   "id": "8e54667d-2954-47a8-ac16-223cbadc8f8d",
   "metadata": {},
   "outputs": [
    {
     "data": {
      "text/plain": [
       "[1,\n",
       " 2,\n",
       " 3,\n",
       " 4,\n",
       " 5,\n",
       " 6,\n",
       " 7,\n",
       " 8,\n",
       " 9,\n",
       " 10,\n",
       " 11,\n",
       " 12,\n",
       " 13,\n",
       " 14,\n",
       " 15,\n",
       " 16,\n",
       " 17,\n",
       " 18,\n",
       " 19,\n",
       " 20,\n",
       " 21,\n",
       " 22,\n",
       " 23,\n",
       " 24,\n",
       " 25,\n",
       " 26,\n",
       " 27,\n",
       " 28,\n",
       " 29,\n",
       " 30,\n",
       " 31,\n",
       " 32,\n",
       " 33,\n",
       " 34,\n",
       " 35,\n",
       " 36,\n",
       " 37,\n",
       " 38,\n",
       " 39,\n",
       " 40,\n",
       " 41,\n",
       " 42,\n",
       " 43,\n",
       " 44,\n",
       " 45,\n",
       " 46,\n",
       " 47,\n",
       " 48,\n",
       " 49,\n",
       " 50,\n",
       " 51,\n",
       " 52,\n",
       " 53,\n",
       " 54,\n",
       " 55,\n",
       " 56,\n",
       " 57,\n",
       " 58,\n",
       " 59,\n",
       " 60,\n",
       " 61,\n",
       " 62,\n",
       " 63,\n",
       " 64,\n",
       " 65,\n",
       " 66,\n",
       " 67,\n",
       " 68,\n",
       " 69,\n",
       " 70,\n",
       " 71,\n",
       " 72,\n",
       " 73,\n",
       " 74,\n",
       " 75,\n",
       " 76,\n",
       " 77,\n",
       " 78,\n",
       " 79,\n",
       " 80,\n",
       " 81,\n",
       " 82,\n",
       " 83,\n",
       " 84,\n",
       " 85,\n",
       " 86,\n",
       " 87,\n",
       " 88,\n",
       " 89,\n",
       " 90,\n",
       " 91,\n",
       " 92,\n",
       " 93,\n",
       " 94,\n",
       " 95,\n",
       " 96,\n",
       " 97,\n",
       " 98,\n",
       " 99,\n",
       " 100]"
      ]
     },
     "execution_count": 40,
     "metadata": {},
     "output_type": "execute_result"
    }
   ],
   "source": [
    "list"
   ]
  },
  {
   "cell_type": "code",
   "execution_count": 41,
   "id": "10858df3-fec2-4285-9ec9-7f0cf4e9171c",
   "metadata": {},
   "outputs": [
    {
     "data": {
      "text/plain": [
       "[1,\n",
       " 3,\n",
       " 5,\n",
       " 7,\n",
       " 9,\n",
       " 11,\n",
       " 13,\n",
       " 15,\n",
       " 17,\n",
       " 19,\n",
       " 21,\n",
       " 23,\n",
       " 25,\n",
       " 27,\n",
       " 29,\n",
       " 31,\n",
       " 33,\n",
       " 35,\n",
       " 37,\n",
       " 39,\n",
       " 41,\n",
       " 43,\n",
       " 45,\n",
       " 47,\n",
       " 49,\n",
       " 51,\n",
       " 53,\n",
       " 55,\n",
       " 57,\n",
       " 59,\n",
       " 61,\n",
       " 63,\n",
       " 65,\n",
       " 67,\n",
       " 69,\n",
       " 71,\n",
       " 73,\n",
       " 75,\n",
       " 77,\n",
       " 79,\n",
       " 81,\n",
       " 83,\n",
       " 85,\n",
       " 87,\n",
       " 89,\n",
       " 91,\n",
       " 93,\n",
       " 95,\n",
       " 97,\n",
       " 99]"
      ]
     },
     "execution_count": 41,
     "metadata": {},
     "output_type": "execute_result"
    }
   ],
   "source": [
    "list_1"
   ]
  }
 ],
 "metadata": {
  "kernelspec": {
   "display_name": "Python 3 (ipykernel)",
   "language": "python",
   "name": "python3"
  },
  "language_info": {
   "codemirror_mode": {
    "name": "ipython",
    "version": 3
   },
   "file_extension": ".py",
   "mimetype": "text/x-python",
   "name": "python",
   "nbconvert_exporter": "python",
   "pygments_lexer": "ipython3",
   "version": "3.10.6"
  }
 },
 "nbformat": 4,
 "nbformat_minor": 5
}
